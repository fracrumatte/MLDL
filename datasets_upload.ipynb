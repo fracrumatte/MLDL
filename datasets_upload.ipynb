{
  "nbformat": 4,
  "nbformat_minor": 0,
  "metadata": {
    "colab": {
      "provenance": [],
      "authorship_tag": "ABX9TyO22Xbn3Yh7b6bffJ4Js1lz",
      "include_colab_link": true
    },
    "kernelspec": {
      "name": "python3",
      "display_name": "Python 3"
    },
    "language_info": {
      "name": "python"
    }
  },
  "cells": [
    {
      "cell_type": "markdown",
      "metadata": {
        "id": "view-in-github",
        "colab_type": "text"
      },
      "source": [
        "<a href=\"https://colab.research.google.com/github/fracrumatte/MLDL/blob/main/datasets_upload.ipynb\" target=\"_parent\"><img src=\"https://colab.research.google.com/assets/colab-badge.svg\" alt=\"Open In Colab\"/></a>"
      ]
    },
    {
      "cell_type": "code",
      "execution_count": null,
      "metadata": {
        "colab": {
          "base_uri": "https://localhost:8080/"
        },
        "id": "GysvzZwT_gow",
        "outputId": "e8aa1fef-cfaf-476d-f427-cb82bb37de7c"
      },
      "outputs": [
        {
          "output_type": "stream",
          "name": "stdout",
          "text": [
            "Mounted at /content/drive\n"
          ]
        }
      ],
      "source": [
        "from google.colab import drive\n",
        "drive.mount(\"/content/drive\")"
      ]
    },
    {
      "cell_type": "code",
      "source": [
        "import zipfile\n",
        "import os\n",
        "\n",
        "zip_folder_path = '/content/drive/MyDrive/geoloc_fcm/datasets'\n",
        "extract_path = '/content/drive/MyDrive/geoloc_fcm/extracted_datasets'\n",
        "\n",
        "for item in os.listdir(zip_folder_path):\n",
        "    if item.endswith('.zip'):\n",
        "        zip_file_path = os.path.join(zip_folder_path, item)\n",
        "        print(zip_file_path)\n",
        "        with zipfile.ZipFile(zip_file_path, 'r') as zip_ref:\n",
        "            print(extract_path)\n",
        "            zip_ref.extractall(extract_path)"
      ],
      "metadata": {
        "colab": {
          "base_uri": "https://localhost:8080/"
        },
        "id": "_Xbchb62_mJl",
        "outputId": "bcfd6d9c-56e7-4859-8de1-dc7ecc75ffe5"
      },
      "execution_count": null,
      "outputs": [
        {
          "output_type": "stream",
          "name": "stdout",
          "text": [
            "/content/drive/MyDrive/geoloc_fcm/datasets/robotcar_one_every_2m.zip\n",
            "/content/drive/MyDrive/geoloc_fcm/extracted_datasets\n",
            "/content/drive/MyDrive/geoloc_fcm/datasets/sf_xs.zip\n",
            "/content/drive/MyDrive/geoloc_fcm/extracted_datasets\n",
            "/content/drive/MyDrive/geoloc_fcm/datasets/gsv_xs.zip\n",
            "/content/drive/MyDrive/geoloc_fcm/extracted_datasets\n",
            "/content/drive/MyDrive/geoloc_fcm/datasets/tokyo_xs.zip\n",
            "/content/drive/MyDrive/geoloc_fcm/extracted_datasets\n"
          ]
        }
      ]
    }
  ]
}